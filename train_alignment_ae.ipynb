{
 "cells": [
  {
   "cell_type": "code",
   "execution_count": 1,
   "metadata": {},
   "outputs": [
    {
     "data": {
      "text/plain": [
       "('2.4.0+cu124', 'cuda available')"
      ]
     },
     "execution_count": 1,
     "metadata": {},
     "output_type": "execute_result"
    }
   ],
   "source": [
    "\"\"\"тренируем автоэнкодер который работает на внутреннем представлениии кодера для зуба ( 256* 32), \n",
    "   метки выдает тот же кодер из T2.\n",
    "\"\"\"\n",
    "import torch\n",
    "\n",
    "from points_dataset import EmbedderDataset\n",
    "from alignment_ae_dataset import AlignerDataset\n",
    "from torch_geometric.data import Data\n",
    "from torch.utils.data import DataLoader\n",
    "\n",
    "from models import *\n",
    "from models_align import *\n",
    "from point_cloud_dataset import PointCloudDataset\n",
    "from torch.utils.tensorboard import SummaryWriter\n",
    "torch.__version__, \"cuda available\" if torch.cuda.is_available() else \"cpu only\""
   ]
  },
  {
   "cell_type": "code",
   "execution_count": 9,
   "metadata": {},
   "outputs": [
    {
     "name": "stderr",
     "output_type": "stream",
     "text": [
      "C:\\Users\\5010858\\AppData\\Local\\Temp/ipykernel_30484/2105116927.py:5: FutureWarning: You are using `torch.load` with `weights_only=False` (the current default value), which uses the default pickle module implicitly. It is possible to construct malicious pickle data which will execute arbitrary code during unpickling (See https://github.com/pytorch/pytorch/blob/main/SECURITY.md#untrusted-models for more details). In a future release, the default value for `weights_only` will be flipped to `True`. This limits the functions that could be executed during unpickling. Arbitrary objects will no longer be allowed to be loaded via this mode unless they are explicitly allowlisted by the user via `torch.serialization.add_safe_globals`. We recommend you start setting `weights_only=True` for any use case where you don't have full control of the loaded file. Please open an issue on GitHub for any issues related to this experimental feature.\n",
      "  align_ds = torch.load(align_ds_path)\n"
     ]
    },
    {
     "name": "stdout",
     "output_type": "stream",
     "text": [
      "Using cuda device, ds length - 10\n"
     ]
    }
   ],
   "source": [
    "device = \"cpu\" if not torch.cuda.is_available() else \"cuda\"\n",
    "\n",
    "model_dir = \"models_align\"\n",
    "align_ds_path = r\"datasets_align\\dataset_256.pth\"\n",
    "align_ds = torch.load(align_ds_path)\n",
    "# align_ds_data = align_ds.data # нет у конкатенрованного ds такого поля \n",
    "print(f\"Using {device} device, ds length - {len(align_ds)}\")\n",
    "\n",
    "EPOCHS = 560\n",
    "BATCH_SIZE = 64\n",
    "SPLIT_FACTOR = .8\n",
    "# TRAIN_MODE = (False, True)[1]\n",
    "# REMOVE_OLD_MODELS = True\n",
    "N_TEETH = 32\n",
    "POINTS_PER_SHAPE = 128\n",
    "POINT_DIM = 3\n",
    "EMBEDDED_POINT_DIM = 32\n",
    "\n",
    "hidden_dim = POINTS_PER_SHAPE * 3 * N_TEETH // 6\n",
    "\n",
    "train_loader = DataLoader(align_ds, batch_size=BATCH_SIZE, shuffle=True)\n",
    "model = autoencoder(POINTS_PER_SHAPE*3*N_TEETH, hidden_dim)\n"
   ]
  },
  {
   "cell_type": "code",
   "execution_count": 11,
   "metadata": {},
   "outputs": [
    {
     "name": "stdout",
     "output_type": "stream",
     "text": [
      "Best model saved at: None\n"
     ]
    }
   ],
   "source": [
    "def train_autoencoder(model, train_loader, device, epochs=EPOCHS, lr=1e-3, log_dir=\"runs/autoencoder\"):\n",
    "    optimizer = torch.optim.Adam(model.parameters(), lr=lr)\n",
    "    loss_fn = nn.MSELoss()\n",
    "\n",
    "    # Initialize TensorBoard writer\n",
    "    writer = SummaryWriter(log_dir=log_dir)\n",
    "\n",
    "    best_loss = float('inf')  # Initialize best loss to infinity\n",
    "    best_model_path = None\n",
    "\n",
    "    for epoch in range(epochs):\n",
    "        epoch_loss = 0.0\n",
    "        for batch_idx, (x,y) in enumerate(train_loader):\n",
    "            model.train()\n",
    "            optimizer.zero_grad()\n",
    "            x = x.view(-1, POINTS_PER_SHAPE*EMBEDDED_POINT_DIM*N_TEETH ).to(device)\n",
    "            x\n",
    "\n",
    "best_model_path = train_autoencoder(model, train_loader, device)\n",
    "print(f\"Best model saved at: {best_model_path}\")\n"
   ]
  },
  {
   "cell_type": "code",
   "execution_count": 6,
   "metadata": {},
   "outputs": [
    {
     "data": {
      "text/plain": [
       "(262144, 480)"
      ]
     },
     "execution_count": 6,
     "metadata": {},
     "output_type": "execute_result"
    }
   ],
   "source": [
    "256*32*32, 15*32"
   ]
  }
 ],
 "metadata": {
  "kernelspec": {
   "display_name": "Python 3",
   "language": "python",
   "name": "python3"
  },
  "language_info": {
   "codemirror_mode": {
    "name": "ipython",
    "version": 3
   },
   "file_extension": ".py",
   "mimetype": "text/x-python",
   "name": "python",
   "nbconvert_exporter": "python",
   "pygments_lexer": "ipython3",
   "version": "3.9.7"
  }
 },
 "nbformat": 4,
 "nbformat_minor": 2
}
