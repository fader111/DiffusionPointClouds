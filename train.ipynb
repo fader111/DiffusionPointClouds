{
 "cells": [
  {
   "cell_type": "code",
   "execution_count": 1,
   "metadata": {},
   "outputs": [
    {
     "data": {
      "text/plain": [
       "('2.4.0+cu124', True)"
      ]
     },
     "execution_count": 1,
     "metadata": {},
     "output_type": "execute_result"
    }
   ],
   "source": [
    "import torch\n",
    "import torch.nn as nn\n",
    "import torch.nn.functional as F\n",
    "from torch_geometric.nn import ChebConv  # Using Chebyshev convolution\n",
    "from torch_geometric.nn import knn_graph\n",
    "from torch_geometric.utils import get_laplacian, get_mesh_laplacian\n",
    "from torch_sparse import coalesce\n",
    "from torch_geometric.utils import degree\n",
    "from models import *\n",
    "from misc import compute_edge_indices, compute_laplacian\n",
    "torch.__version__, torch.cuda.is_available()"
   ]
  },
  {
   "cell_type": "code",
   "execution_count": null,
   "metadata": {},
   "outputs": [],
   "source": [
    "# create dataset."
   ]
  },
  {
   "cell_type": "code",
   "execution_count": 3,
   "metadata": {},
   "outputs": [
    {
     "name": "stdout",
     "output_type": "stream",
     "text": [
      "Laplacian shape: torch.Size([6000])\n"
     ]
    }
   ],
   "source": [
    "# Ensure the Laplacian is computed based on the correct edge index\n",
    "num_nodes = point_cloud.size(0)\n",
    "laplacian = compute_laplacian(edge_index, num_nodes)\n",
    "print(f\"Laplacian shape: {laplacian.shape}\")\n"
   ]
  },
  {
   "cell_type": "code",
   "execution_count": 4,
   "metadata": {},
   "outputs": [
    {
     "name": "stdout",
     "output_type": "stream",
     "text": [
      "Epoch 0, Loss: 3.5965609460105216e+17\n",
      "Epoch 10, Loss: nan\n",
      "Epoch 20, Loss: nan\n",
      "Epoch 30, Loss: nan\n",
      "Epoch 40, Loss: nan\n",
      "Epoch 50, Loss: nan\n",
      "Epoch 60, Loss: nan\n",
      "Epoch 70, Loss: nan\n",
      "Epoch 80, Loss: nan\n",
      "Epoch 90, Loss: nan\n"
     ]
    }
   ],
   "source": [
    "def train_autoencoder(model, data, edge_index, laplacian, epochs=100, lr=1e-3):\n",
    "    optimizer = torch.optim.Adam(model.parameters(), lr=lr)\n",
    "    loss_fn = nn.MSELoss()\n",
    "\n",
    "    for epoch in range(epochs):\n",
    "        model.train()\n",
    "        optimizer.zero_grad()\n",
    "\n",
    "        # Forward pass\n",
    "        reconstructed = model(data, edge_index, laplacian)\n",
    "        loss = loss_fn(reconstructed, data)\n",
    "\n",
    "        # Backward pass\n",
    "        loss.backward()\n",
    "        optimizer.step()\n",
    "\n",
    "        if epoch % 10 == 0:\n",
    "            print(f'Epoch {epoch}, Loss: {loss.item()}')\n",
    "\n",
    "# Example usage:\n",
    "# data: point cloud data as input features (e.g., [N, F])\n",
    "# edge_index: adjacency list of the point cloud or mesh (graph edges)\n",
    "# laplacian: precomputed Laplacian matrix for diffusion\n",
    "\n",
    "in_features = 3  # x, y, z coordinates for each point\n",
    "hidden_features = 64\n",
    "latent_dim = 32\n",
    "\n",
    "model = DiffusionNetAutoencoder(in_features, hidden_features, latent_dim)\n",
    "\n",
    "# Example training\n",
    "# Replace `point_cloud`, `edge_index`, and `laplacian` with your actual data\n",
    "train_autoencoder(model, point_cloud, edge_index, laplacian)"
   ]
  }
 ],
 "metadata": {
  "kernelspec": {
   "display_name": "Python 3",
   "language": "python",
   "name": "python3"
  },
  "language_info": {
   "codemirror_mode": {
    "name": "ipython",
    "version": 3
   },
   "file_extension": ".py",
   "mimetype": "text/x-python",
   "name": "python",
   "nbconvert_exporter": "python",
   "pygments_lexer": "ipython3",
   "version": "3.12.3"
  }
 },
 "nbformat": 4,
 "nbformat_minor": 2
}
