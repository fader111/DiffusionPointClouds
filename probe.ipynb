{
 "cells": [
  {
   "cell_type": "code",
   "execution_count": 5,
   "metadata": {},
   "outputs": [],
   "source": [
    "import torch\n",
    "import torch.nn as nn\n",
    "import torch.nn.functional as F\n",
    "from torch_geometric.nn import ChebConv  # Using Chebyshev convolution\n",
    "from torch_geometric.nn import knn_graph\n",
    "from torch_geometric.utils import get_laplacian\n",
    "from torch_sparse import coalesce\n",
    "from torch_geometric.utils import degree"
   ]
  },
  {
   "cell_type": "code",
   "execution_count": 6,
   "metadata": {},
   "outputs": [],
   "source": [
    "def compute_edge_indices(point_cloud, k=6):\n",
    "    \"\"\"\n",
    "    Compute edge indices using k-nearest neighbors for the point cloud.\n",
    "    \n",
    "    Parameters:\n",
    "        point_cloud (torch.Tensor): Tensor of shape [N, F], where N is the number of points and F is the feature dimension (e.g., 3 for x, y, z coordinates).\n",
    "        k (int): Number of nearest neighbors to consider.\n",
    "\n",
    "    Returns:\n",
    "        torch.Tensor: Edge index tensor of shape [2, num_edges].\n",
    "    \"\"\"\n",
    "    edge_index = knn_graph(point_cloud, k=k, loop=False)\n",
    "    return edge_index\n",
    "\n",
    "# Example usage:\n",
    "# point_cloud: Tensor of shape [N, 3] (N points, each with x, y, z coordinates)\n",
    "# k: Number of nearest neighbors to connect each point to"
   ]
  },
  {
   "cell_type": "code",
   "execution_count": 7,
   "metadata": {},
   "outputs": [],
   "source": [
    "\n",
    "\n",
    "def compute_manual_laplacian(edge_index, num_nodes):\n",
    "    \"\"\"\n",
    "    Manually compute the Laplacian matrix without changing the shape of edge_index.\n",
    "    \n",
    "    Parameters:\n",
    "        edge_index (torch.Tensor): Edge index tensor of shape [2, num_edges].\n",
    "        num_nodes (int): Number of nodes in the point cloud.\n",
    "\n",
    "    Returns:\n",
    "        torch.Tensor: Laplacian edge weights.\n",
    "    \"\"\"\n",
    "    # Get degrees for each node\n",
    "    row, col = edge_index\n",
    "    deg = degree(row, num_nodes=num_nodes, dtype=torch.float32)\n",
    "\n",
    "    # Compute normalized Laplacian weights (L = D - A)\n",
    "    edge_weight = torch.ones((edge_index.size(1), ), dtype=torch.float32)  # Weight all edges equally\n",
    "    deg_inv_sqrt = deg.pow(-0.5)\n",
    "    deg_inv_sqrt[deg_inv_sqrt == float('inf')] = 0  # Avoid division by zero\n",
    "\n",
    "    # Apply normalization to the edge weights\n",
    "    edge_weight = deg_inv_sqrt[row] * edge_weight * deg_inv_sqrt[col]\n",
    "    \n",
    "    return edge_weight\n",
    "\n"
   ]
  },
  {
   "cell_type": "code",
   "execution_count": 9,
   "metadata": {},
   "outputs": [
    {
     "name": "stdout",
     "output_type": "stream",
     "text": [
      "Epoch 0, Loss: 18.19139862060547\n",
      "Epoch 10, Loss: 1.039462685585022\n",
      "Epoch 20, Loss: 0.974716067314148\n",
      "Epoch 30, Loss: 0.9610922932624817\n",
      "Epoch 40, Loss: 0.9534638524055481\n",
      "Epoch 50, Loss: 0.9489578604698181\n",
      "Epoch 60, Loss: 0.9453242421150208\n",
      "Epoch 70, Loss: 0.940920889377594\n",
      "Epoch 80, Loss: 0.935873806476593\n",
      "Epoch 90, Loss: 0.9286730289459229\n"
     ]
    }
   ],
   "source": [
    "def train_autoencoder(model, data, edge_index, laplacian, epochs=100, lr=1e-3):\n",
    "    optimizer = torch.optim.Adam(model.parameters(), lr=lr)\n",
    "    loss_fn = nn.MSELoss()\n",
    "\n",
    "    for epoch in range(epochs):\n",
    "        model.train()\n",
    "        optimizer.zero_grad()\n",
    "\n",
    "        # Forward pass\n",
    "        reconstructed = model(data, edge_index, laplacian)\n",
    "        loss = loss_fn(reconstructed, data)\n",
    "\n",
    "        # Backward pass\n",
    "        loss.backward()\n",
    "        optimizer.step()\n",
    "\n",
    "        if epoch % 10 == 0:\n",
    "            print(f'Epoch {epoch}, Loss: {loss.item()}')\n",
    "\n",
    "# Example usage:\n",
    "# data: point cloud data as input features (e.g., [N, F])\n",
    "# edge_index: adjacency list of the point cloud or mesh (graph edges)\n",
    "# laplacian: precomputed Laplacian matrix for diffusion\n",
    "# \n",
    "point_cloud = torch.randn(1000, 3)  # torch.Size([1000, 3])\n",
    "edge_index = compute_edge_indices(point_cloud, k=6) # torch.Size([2, 6000]) Torch.int64\n",
    "\n",
    "num_nodes = point_cloud.size(0)\n",
    "# Compute the Laplacian edge weights manually\n",
    "\n",
    "laplacian = compute_manual_laplacian(edge_index, num_nodes) # torch.Size([6000])\n",
    "\n",
    "# laplacian, edge_weight = get_laplacian(edge_index, normalization='sym', num_nodes=num_nodes)\n",
    "\n",
    "in_features = 3  # x, y, z coordinates for each point\n",
    "hidden_features = 64\n",
    "latent_dim = 32\n",
    "\n",
    "from models import DiffusionNetAutoencoder\n",
    "model = DiffusionNetAutoencoder(in_features, hidden_features, latent_dim)\n",
    "\n",
    "# Example training\n",
    "# Replace point_cloud, edge_index, and laplacian with your actual data\n",
    "train_autoencoder(model, point_cloud, edge_index, laplacian)"
   ]
  },
  {
   "cell_type": "code",
   "execution_count": 3,
   "metadata": {},
   "outputs": [
    {
     "name": "stdout",
     "output_type": "stream",
     "text": [
      "[38, 37, 36, 35, 34, 33, 32, 31, 41, 42, 43, 44, 45, 46, 47, 48, 18, 17, 16, 15, 14, 13, 12, 11, 21, 22, 23, 24, 25, 26, 27, 28]\n"
     ]
    }
   ],
   "source": [
    "up_teeth_nums16 = [18, 17, 16, 15, 14, 13, 12, 11, 21, 22,\n",
    "                23, 24, 25, 26, 27, 28]  # Jaw_id = 2 верхняя / по 16 зубов\n",
    "dw_teeth_nums16 = [38, 37, 36, 35, 34, 33, 32, 31, 41, 42,\n",
    "                    43, 44, 45, 46, 47, 48]  # Jaw_id = 1 нижняя  / 16 зубов\n",
    "print(dw_teeth_nums16+up_teeth_nums16)"
   ]
  },
  {
   "cell_type": "code",
   "execution_count": 9,
   "metadata": {},
   "outputs": [
    {
     "name": "stderr",
     "output_type": "stream",
     "text": [
      "C:\\Users\\5010858\\AppData\\Local\\Temp/ipykernel_27056/821819896.py:5: FutureWarning: You are using `torch.load` with `weights_only=False` (the current default value), which uses the default pickle module implicitly. It is possible to construct malicious pickle data which will execute arbitrary code during unpickling (See https://github.com/pytorch/pytorch/blob/main/SECURITY.md#untrusted-models for more details). In a future release, the default value for `weights_only` will be flipped to `True`. This limits the functions that could be executed during unpickling. Arbitrary objects will no longer be allowed to be loaded via this mode unless they are explicitly allowlisted by the user via `torch.serialization.add_safe_globals`. We recommend you start setting `weights_only=True` for any use case where you don't have full control of the loaded file. Please open an issue on GitHub for any issues related to this experimental feature.\n",
      "  datasets = [torch.load(os.path.join(ds_dir, ds_file)) for ds_file in ds_files_list if not \"dataset\" in ds_file]\n"
     ]
    },
    {
     "name": "stdout",
     "output_type": "stream",
     "text": [
      "dataset dataset_256.pth saved to datasets_align, length - 957\n"
     ]
    }
   ],
   "source": [
    "# concatenate datasets\n",
    "import os, torch\n",
    "from alignment_ae_dataset import AlignerDataset\n",
    "ds_dir = 'datasets_align'\n",
    "ds_files_list = os.listdir(ds_dir)\n",
    "datasets = [torch.load(os.path.join(ds_dir, ds_file)) for ds_file in ds_files_list if not \"dataset\" in ds_file]\n",
    "\n",
    "ds = torch.utils.data.ConcatDataset(datasets)\n",
    "concatenated_ds_fname = 'dataset_256.pth'\n",
    "torch.save(ds, os.path.join(ds_dir, concatenated_ds_fname))\n",
    "print(f\"{concatenated_ds_fname} saved to {ds_dir}/, length - {len(ds)}\")\n"
   ]
  }
 ],
 "metadata": {
  "kernelspec": {
   "display_name": "Python 3",
   "language": "python",
   "name": "python3"
  },
  "language_info": {
   "codemirror_mode": {
    "name": "ipython",
    "version": 3
   },
   "file_extension": ".py",
   "mimetype": "text/x-python",
   "name": "python",
   "nbconvert_exporter": "python",
   "pygments_lexer": "ipython3",
   "version": "3.9.7"
  }
 },
 "nbformat": 4,
 "nbformat_minor": 2
}
